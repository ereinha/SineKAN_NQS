{
  "cells": [
    {
      "cell_type": "code",
      "execution_count": null,
      "metadata": {
        "colab": {
          "base_uri": "https://localhost:8080/"
        },
        "id": "ZzHrkwzv1KBR",
        "outputId": "7905db74-df5d-41d2-e75b-bfdf85bfb496"
      },
      "outputs": [
        {
          "name": "stdout",
          "output_type": "stream",
          "text": [
            "./out/j1j2_1d_peri_mars_1d_L100_zm/sym_sinekan_l1_f1_custom/out\n",
            "n_params  86433\n",
            "start_time (full training) 2025-04-04 15:50:01\n",
            "100% 34000/34000 [4:09:36<00:00,  2.27it/s, Energy=-44.3251 ± 0.0018 [σ²=0.0031]]\n",
            "used_time (full training) 14993.933367729187\n",
            "^C\n"
          ]
        }
      ],
      "source": [
        "!python3 vmc.py --ham j1j2_1d --boundary peri --sign mars --J2 0.0 --ham_dim 1 --L 100 --zero_mag --net sym_sinekan --layers_hidden 64,64,1 --grid_size 8 --seed 123 --optimizer custom --drop_step 30_000 --decay_time 1_000 --max_step 34_000 --show_progress --lr 1e-3"
      ]
    },
    {
      "cell_type": "code",
      "execution_count": null,
      "metadata": {
        "id": "HGppjjHi4DFM"
      },
      "outputs": [],
      "source": []
    }
  ],
  "metadata": {
    "accelerator": "GPU",
    "colab": {
      "gpuType": "T4",
      "provenance": []
    },
    "kernelspec": {
      "display_name": "Python 3",
      "name": "python3"
    },
    "language_info": {
      "name": "python"
    }
  },
  "nbformat": 4,
  "nbformat_minor": 0
}
